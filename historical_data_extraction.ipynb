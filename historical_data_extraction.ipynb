{
 "cells": [
  {
   "cell_type": "code",
   "execution_count": null,
   "metadata": {
    "vscode": {
     "languageId": "plaintext"
    }
   },
   "outputs": [],
   "source": [
    "!pip install s3fs\n",
    "\n",
    "# authentication credentials API weather\n",
    "API_KEY = \"\"\n",
    "\n",
    "# authentication credentials AWS account\n",
    "S3_KEY = \"\"\n",
    "S3_SECRET = \"\"\n",
    "S3_BUCKET = \"\"\n",
    "AWS_REGION = \"\""
   ]
  },
  {
   "cell_type": "code",
   "execution_count": null,
   "metadata": {
    "vscode": {
     "languageId": "plaintext"
    }
   },
   "outputs": [],
   "source": [
    "import requests\n",
    "import datetime\n",
    "from concurrent.futures import ThreadPoolExecutor, as_completed\n",
    "from tqdm import tqdm\n",
    "import pandas as pd\n",
    "\n",
    "NUME_ORAS = \"Roma\"\n",
    "\n",
    "# define a function to determine the latitude and longitude of the city\n",
    "def get_lat_lon(nume_oras: str):\n",
    "    url = f\"http://api.openweathermap.org/geo/1.0/direct?q={nume_oras.title()}&limit=5&appid=24917665b7868f0f2feba0e078dfde9a\"\n",
    "\n",
    "    response = requests.request(\"GET\", url)\n",
    "\n",
    "    data = response.json()\n",
    "    return data[0][\"lat\"], data[0][\"lon\"]\n",
    "\n",
    "# define a function to extract weather data for a date using the API call based on the previously found coordinates\n",
    "def get_weather_data(date):\n",
    "    lat, lon = get_lat_lon(nume_oras=NUME_ORAS)\n",
    "    openweathermap_base_url = f\"https://api.openweathermap.org/data/3.0/onecall/day_summary?lat={lat}&lon={lon}&date={date}&appid={API_KEY}\"\n",
    "    response = requests.get(openweathermap_base_url)\n",
    "    if response.status_code == 200:\n",
    "        return response.json()\n",
    "    else:\n",
    "        return None\n",
    "\n",
    "# define a function to generate a data list for the last 10 years\n",
    "def generate_date_range():\n",
    "    today = datetime.datetime.now()\n",
    "    date_range = [\n",
    "        (today - datetime.timedelta(days=i))\n",
    "        .replace(hour=12, minute=0, second=0)\n",
    "        .strftime(\"%Y-%m-%d\")\n",
    "        for i in range(3650)\n",
    "    ]\n",
    "    return date_range\n",
    "\n",
    "# weather data collection function for all data generated in the previous one\n",
    "def fetch_all_weather_data():\n",
    "    date_range = generate_date_range()\n",
    "    data = []\n",
    "\n",
    "    with ThreadPoolExecutor(max_workers=10) as executor:\n",
    "        future_to_date = {\n",
    "            executor.submit(get_weather_data, date): date for date in date_range\n",
    "        }\n",
    "\n",
    "        for future in tqdm(as_completed(future_to_date), total=len(date_range)):\n",
    "            date = future_to_date[future]\n",
    "            try:\n",
    "                result = future.result()\n",
    "                if result is not None:\n",
    "                    data.append(result)\n",
    "            except Exception as exc:\n",
    "                print(f\"Date {date} generated an exception: {exc}\")\n",
    "\n",
    "    return data\n",
    "\n",
    "\n",
    "data = fetch_all_weather_data()\n",
    "\n",
    "# JSON data normalization and transformation of the weather data list into a Pandas DataFrame\n",
    "df = pd.json_normalize(data)\n",
    "\n",
    "# saving processed data to CSV files stored in S3 using AWS connection credentials\n",
    "storage_options = {\n",
    "    \"key\": S3_KEY,\n",
    "    \"secret\": S3_SECRET,\n",
    "}\n",
    "df.to_csv(\n",
    "    f\"s3://{S3_BUCKET}/{NUME_ORAS}_10_ani.csv\",\n",
    "    index=False,\n",
    "    storage_options=storage_options,\n",
    ")"
   ]
  }
 ],
 "metadata": {
  "language_info": {
   "name": "python"
  }
 },
 "nbformat": 4,
 "nbformat_minor": 2
}
